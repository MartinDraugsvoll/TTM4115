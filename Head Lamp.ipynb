{
 "cells": [
  {
   "cell_type": "code",
   "execution_count": 16,
   "metadata": {},
   "outputs": [
    {
     "data": {
      "application/vnd.jupyter.widget-view+json": {
       "model_id": "1582935d2c6f42529510a29cec2926bc",
       "version_major": 2,
       "version_minor": 0
      },
      "text/plain": [
       "Image(value=b'\\x89PNG\\r\\n\\x1a\\n\\x00\\x00\\x00\\rIHDR\\x00\\x00\\x00P\\x00\\x00\\x00P\\x08\\x02\\x00\\x00\\x00\\x01se\\xfa\\x00\\…"
      ]
     },
     "metadata": {},
     "output_type": "display_data"
    },
    {
     "data": {
      "application/vnd.jupyter.widget-view+json": {
       "model_id": "81d82adafab3497c86c68c1f4b4df6b2",
       "version_major": 2,
       "version_minor": 0
      },
      "text/plain": [
       "Checkbox(value=False, description='Hand in front of sensor')"
      ]
     },
     "metadata": {},
     "output_type": "display_data"
    }
   ],
   "source": [
    "from stmpy import Machine, Driver\n",
    "from IPython.display import display\n",
    "import ipywidgets as widgets\n",
    "import time\n",
    "\n",
    "def current_milli_time():\n",
    "    return round(time.time() * 1000)\n",
    "\n",
    "class HeadLight:\n",
    "    \n",
    "    # callback method, called by the button 'switch' when it is pressed\n",
    "    def on_value_change(self, change):\n",
    "        if change['new']:\n",
    "            self.stm.send('hand')\n",
    "        #I removed this, cuz i just used the value of the checkbox instead of the 'hand' and 'no_hand' values\n",
    "        #else:\n",
    "            #self.stm.send('no_hand')\n",
    "    \n",
    "    # called by the initial transition\n",
    "    def __init__(self):\n",
    "        # load images and store them\n",
    "        self.yellow_on = open(\"images/yellow_on.png\", \"rb\").read()\n",
    "        self.yellow_off = open(\"images/yellow_off.png\", \"rb\").read()\n",
    "        # a checkbox to symbolize the IR sensor\n",
    "        self.checkbox = widgets.Checkbox(value=False, description='Hand in front of sensor')\n",
    "        self.checkbox.observe(self.on_value_change, names='value')\n",
    "        # an image of a yellow light\n",
    "        self.yellow = widgets.Image(value=self.yellow_off, format='png', width=50, height=50)\n",
    "        # display everything\n",
    "        display(self.yellow, self.checkbox)\n",
    "    \n",
    "    # called by our transition to turn the light on\n",
    "    def on(self):\n",
    "        # switch on the yellow light\n",
    "        self.yellow.set_trait(name='value', value=self.yellow_on)\n",
    "    \n",
    "    # called by our transition to turn the light on\n",
    "    def off(self):\n",
    "        # switch off the yellow light\n",
    "        self.yellow.set_trait(name='value', value=self.yellow_off)\n",
    "\n",
    "    def off_choice(self):\n",
    "        #need to check if the hand is removed before the timer ends\n",
    "        delay = current_milli_time() + 1000 #this should be a sek \n",
    "    \n",
    "        #Checks to see if the delay is longer or shorter than the duration of the hand\n",
    "        while self.checkbox.value:\n",
    "            if(current_milli_time() == delay):\n",
    "                return 'off'\n",
    "        return 'on'\n",
    "\n",
    "    def on_choice(self):\n",
    "        #need to check if the hand is removed before the timer ends\n",
    "        delay = current_milli_time() + 1000 #this should be a sek delay ish\n",
    "        \n",
    "        #Checks to see if the delay is longer or shorter than the duration of the hand\n",
    "        while self.checkbox.value:\n",
    "            if(current_milli_time() == delay):\n",
    "                return 'on'\n",
    "        return 'off'\n",
    "        \n",
    "        \n",
    "        \n",
    "head_light = HeadLight()\n",
    "\n",
    "\n",
    "#Gjør om det over så jeg bruker funksjoner og \"if\" statements \n",
    "#+ må adde timer delay på 1 sek\n",
    "#Detecter hand, starter timer, ser om !hand før timer t = 1 sek\n",
    "\n",
    "# initial transition\n",
    "t0 = {'source': 'initial',\n",
    "      'target': 'off'}\n",
    "\n",
    "# transition\n",
    "t1 = {'trigger':'hand', 'source':'off','function': head_light.off_choice}\n",
    "\n",
    "t2 = {'trigger':'hand', 'source':'on', 'function': head_light.on_choice}\n",
    "\n",
    "#states:\n",
    "off = {'name': 'off', 'entry': 'off'}\n",
    "on = {'name': 'on', 'entry': 'on'}\n",
    "\n",
    "\n",
    "# We pass the set of states to the state machine\n",
    "machine = Machine(name='head_light', transitions=[t0, t1, t2], obj=head_light, states=[on, off])\n",
    "head_light.stm = machine\n",
    "\n",
    "driver = Driver()\n",
    "driver.add_machine(machine)\n",
    "driver.start()"
   ]
  },
  {
   "cell_type": "code",
   "execution_count": null,
   "metadata": {},
   "outputs": [],
   "source": []
  }
 ],
 "metadata": {
  "kernelspec": {
   "display_name": "Python 3 (ipykernel)",
   "language": "python",
   "name": "python3"
  },
  "language_info": {
   "codemirror_mode": {
    "name": "ipython",
    "version": 3
   },
   "file_extension": ".py",
   "mimetype": "text/x-python",
   "name": "python",
   "nbconvert_exporter": "python",
   "pygments_lexer": "ipython3",
   "version": "3.11.5"
  }
 },
 "nbformat": 4,
 "nbformat_minor": 4
}
