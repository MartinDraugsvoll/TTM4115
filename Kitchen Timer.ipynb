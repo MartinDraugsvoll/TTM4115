{
 "cells": [
  {
   "cell_type": "markdown",
   "metadata": {},
   "source": [
    "# State Machine for the Kitchen Timer\n",
    "\n",
    "This is material for the lecture, not part of the mandatory preparation."
   ]
  },
  {
   "cell_type": "code",
   "execution_count": 84,
   "metadata": {},
   "outputs": [],
   "source": [
    "from stmpy import Machine, Driver\n",
    "\n",
    "import ipywidgets as widgets\n",
    "from IPython.display import display\n",
    "\n",
    "class KitchenTimer:\n",
    "    \n",
    "    def on_button_press(self, b):\n",
    "        self.stm.send('switch') # <---- here we send a signal\n",
    "            \n",
    "    def __init__(self):\n",
    "        # load images and store them\n",
    "        self.on_60 = open(\"images/timer/on_60.jpg\", \"rb\").read()\n",
    "        self.off_60 = open(\"images/timer/off_60.jpg\", \"rb\").read()\n",
    "        self.on_45 = open(\"images/timer/on_45.jpg\", \"rb\").read()\n",
    "        self.off_45 = open(\"images/timer/off_45.jpg\", \"rb\").read()\n",
    "        self.on_30 = open(\"images/timer/on_30.jpg\", \"rb\").read()\n",
    "        self.off_30 = open(\"images/timer/off_30.jpg\", \"rb\").read()\n",
    "        self.on_15 = open(\"images/timer/on_15.jpg\", \"rb\").read()\n",
    "        self.off_15 = open(\"images/timer/off_15.jpg\", \"rb\").read()\n",
    "        self.plug_on = open(\"images/timer/plug_on.jpg\", \"rb\").read()\n",
    "        self.plug_off = open(\"images/timer/plug_off.jpg\", \"rb\").read()\n",
    "        \n",
    "        self.led_15 = widgets.Image(value=self.off_15, format='jpg', width=50, height=50)\n",
    "        self.led_30 = widgets.Image(value=self.off_30, format='jpg', width=50, height=50)\n",
    "        self.led_45 = widgets.Image(value=self.off_45, format='jpg', width=50, height=50)\n",
    "        self.led_60 = widgets.Image(value=self.off_60, format='jpg', width=50, height=50)\n",
    "        \n",
    "        left_box = widgets.VBox([self.led_60, self.led_45])\n",
    "        right_box = widgets.VBox([self.led_15, self.led_30])\n",
    "        box = widgets.HBox([left_box, right_box])\n",
    "        self.plug = widgets.Image(value=self.plug_off, format='jpg', width=100, height=100)\n",
    "        \n",
    "        # display the user interface\n",
    "        # a button\n",
    "        self.button = widgets.Button(description=\"Button\")\n",
    "        self.button.on_click(self.on_button_press)\n",
    "        \n",
    "        display(box, self.button, self.plug)\n",
    "        \n",
    "    \n",
    "    def switch_led(self, led, on):\n",
    "        if led == '15' and on: self.led_15.set_trait(name='value', value=self.on_15)\n",
    "        if led == '15' and not on: self.led_15.set_trait(name='value', value=self.off_15) \n",
    "        if led == '30' and on: self.led_30.set_trait(name='value', value=self.on_30)\n",
    "        if led == '30' and not on: self.led_30.set_trait(name='value', value=self.off_30) \n",
    "        if led == '45' and on: self.led_45.set_trait(name='value', value=self.on_45)\n",
    "        if led == '45' and not on: self.led_45.set_trait(name='value', value=self.off_45) \n",
    "        if led == '60' and on: self.led_60.set_trait(name='value', value=self.on_60)\n",
    "        if led == '60' and not on: self.led_60.set_trait(name='value', value=self.off_60) \n",
    "            \n",
    "    def switch_plug(self, on):\n",
    "        if on: self.plug.set_trait(name='value', value=self.plug_on)\n",
    "        else: self.plug.set_trait(name='value', value=self.plug_off) \n",
    "    \n",
    "    def set_leds(l3, l2, l1, l0):\n",
    "        if l0 == '1':\n",
    "            self.led_15.set_trait(name='value', value=self.on_15)\n",
    "        if l0 == '0':\n",
    "            self.led_15.set_trait(name='value', value=self.off_15)\n",
    "        if l1 == '1':\n",
    "            self.led_30.set_trait(name='value', value=self.on_30)\n",
    "        if l1 == '0':\n",
    "            self.led_30.set_trait(name='value', value=self.off_30)\n",
    "        if l2 == '1':\n",
    "            self.led_45.set_trait(name='value', value=self.on_45)\n",
    "        if l2 == '0':\n",
    "            self.led_45.set_trait(name='value', value=self.off_45)\n",
    "        if l3 == '1':\n",
    "            self.led_60.set_trait(name='value', value=self.on_60)\n",
    "        if l3 == '0':\n",
    "            self.led_60.set_trait(name='value', value=self.off_60)"
   ]
  },
  {
   "cell_type": "code",
   "execution_count": 96,
   "metadata": {},
   "outputs": [
    {
     "data": {
      "application/vnd.jupyter.widget-view+json": {
       "model_id": "a8e2263eadda4296a03fdc40ab546451",
       "version_major": 2,
       "version_minor": 0
      },
      "text/plain": [
       "HBox(children=(VBox(children=(Image(value=b'\\xff\\xd8\\xff\\xe0\\x00\\x10JFIF\\x00\\x01\\x01\\x00\\x00\\xc8\\x00\\xc8\\x00\\x…"
      ]
     },
     "metadata": {},
     "output_type": "display_data"
    },
    {
     "data": {
      "application/vnd.jupyter.widget-view+json": {
       "model_id": "46511e12fa9e4937b48921173c529584",
       "version_major": 2,
       "version_minor": 0
      },
      "text/plain": [
       "Button(description='Button', style=ButtonStyle())"
      ]
     },
     "metadata": {},
     "output_type": "display_data"
    },
    {
     "data": {
      "application/vnd.jupyter.widget-view+json": {
       "model_id": "8c4faaad1b2e41e58098bcb7e04e6547",
       "version_major": 2,
       "version_minor": 0
      },
      "text/plain": [
       "Image(value=b'\\xff\\xd8\\xff\\xe0\\x00\\x10JFIF\\x00\\x01\\x01\\x00\\x00\\xc8\\x00\\xc8\\x00\\x00\\xff\\xe1\\x00\\x98Exif\\x00\\x00…"
      ]
     },
     "metadata": {},
     "output_type": "display_data"
    }
   ],
   "source": [
    "timer = KitchenTimer()\n",
    "\n",
    "#Dette funnker ikke\n",
    "\n",
    "#Add states:\n",
    "off = {\n",
    "    \"name\": \"off\",\n",
    "    \"entry\": \"switch_plug(0); switch_led('15', 0); switch_led('30', 0); switch_led('45', 0); switch_led('60', 0)\", \n",
    "    \"exit\": \"switch_plug(1)\"\n",
    "}\n",
    "\n",
    "on_15 = {\n",
    "    \"name\": \"on_15\",\n",
    "    #entry\": \"set_leds('0','0','0','1')\",\n",
    "    \"entry\": \"start_timer('t', 4000); switch_led('15', 1); switch_led('30', 0); switch_led('45', 0); switch_led('60', 0)\"\n",
    "\n",
    "}\n",
    "\n",
    "\n",
    "on_30 = {\n",
    "    \"name\": \"on_30\",\n",
    "    \"entry\": \"start_timer('t', 4000); switch_led('15', 1); switch_led('30', 1); switch_led('45', 0); switch_led('60', 0)\"\n",
    "}\n",
    "\n",
    "\n",
    "on_45 = {\n",
    "    \"name\": \"on_45\",\n",
    "    \"entry\": \"start_timer('t', 4000); switch_led('15', 1); switch_led('30', 1); switch_led('45', 1); switch_led('60', 0)\" \n",
    "}\n",
    "    \n",
    "on_60 = {\n",
    "    \"name\": \"on_60\",\n",
    "    \"entry\": \"start_timer('t', 4000)\",\n",
    "    \"entry\": \"switch_led('15', 1); switch_led('30', 1); switch_led('45', 1); switch_led('60', 1)\" \n",
    "}\n",
    "\n",
    "\n",
    "#Add transitions:\n",
    "t0 = {'source': 'initial',\n",
    "      'target': 'off'}\n",
    "\n",
    "t1 = {\"trigger\": \"switch\",\n",
    "      \"source\": \"off\",\n",
    "      \"target\": \"on_15\"}\n",
    "\n",
    "t2 = {\"trigger\": \"switch\",\n",
    "      \"source\": \"on_15\",\n",
    "      \"target\": \"on_30\" }\n",
    "\n",
    "t3 = {\"trigger\": \"switch\",\n",
    "      \"source\": \"on_30\",\n",
    "      \"target\": \"on_45\" }\n",
    "\n",
    "t4 = {\"trigger\": \"switch\",\n",
    "      \"source\": \"on_45\",\n",
    "      \"target\": \"on_60\" }\n",
    "\n",
    "t5 = {\"trigger\": \"switch\",\n",
    "      \"source\": \"on_60\",\n",
    "      \"target\": \"off\",\n",
    "      \"effect\": \"stop_timer('t')\"}\n",
    "\n",
    "t6 = {\"trigger\": \"t\",\n",
    "      \"source\": \"on_15\",\n",
    "      \"target\": \"off\" }\n",
    "\n",
    "t7 = {\"trigger\": \"t\",\n",
    "      \"source\": \"on_30\",\n",
    "      \"target\": \"on_15\" }\n",
    "\n",
    "t8 = {\"trigger\": \"t\",\n",
    "      \"source\": \"on_45\",\n",
    "      \"target\": \"on_30\" }\n",
    "\n",
    "t9 = {\"trigger\": \"t\",\n",
    "      \"source\": \"on_60\",\n",
    "      \"target\": \"on_45\" }\n",
    "\n",
    "#Start the machine\n",
    "stm_timer = Machine(name='stm_timer', transitions=[t0, t1, t2, t3, t4, t5, t6, t7, t8, t9], obj=timer, states=[off, on_15, on_30, on_45, on_60])\n",
    "timer.stm = stm_timer\n",
    "\n",
    "#Start the driver\n",
    "driver = Driver()\n",
    "driver.add_machine(stm_timer)\n",
    "driver.start()\n",
    "\n",
    "#BOMBA!\n",
    "\n"
   ]
  },
  {
   "cell_type": "code",
   "execution_count": null,
   "metadata": {},
   "outputs": [],
   "source": []
  },
  {
   "cell_type": "code",
   "execution_count": null,
   "metadata": {},
   "outputs": [],
   "source": []
  }
 ],
 "metadata": {
  "kernelspec": {
   "display_name": "Python 3 (ipykernel)",
   "language": "python",
   "name": "python3"
  },
  "language_info": {
   "codemirror_mode": {
    "name": "ipython",
    "version": 3
   },
   "file_extension": ".py",
   "mimetype": "text/x-python",
   "name": "python",
   "nbconvert_exporter": "python",
   "pygments_lexer": "ipython3",
   "version": "3.11.5"
  }
 },
 "nbformat": 4,
 "nbformat_minor": 4
}
